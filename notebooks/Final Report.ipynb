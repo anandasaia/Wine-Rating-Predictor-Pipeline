{
 "cells": [
  {
   "cell_type": "markdown",
   "metadata": {},
   "source": [
    "\n",
    "\n",
    "\n",
    "\n",
    "\n",
    "# DATA ANALYSIS REPORT FOR WINE RATING PREDICTOR ML MODEL\n",
    "\n",
    "\n",
    "\n"
   ]
  },
  {
   "cell_type": "markdown",
   "metadata": {},
   "source": [
    "Importing the files necessary for our Data Analysis"
   ]
  },
  {
   "cell_type": "code",
   "execution_count": 1,
   "metadata": {
    "lines_to_next_cell": 2
   },
   "outputs": [],
   "source": [
    "import numpy as np # linear algebra\n",
    "import pandas as pd # data processing, CSV file I/O (e.g. pd.read_csv)\n",
    "\n",
    "# Plot / Graph stuffs\n",
    "import seaborn as sns\n",
    "import matplotlib.pyplot as plt\n",
    "\n",
    "from sklearn.feature_extraction.text import CountVectorizer, TfidfVectorizer\n",
    "from sklearn.model_selection import train_test_split\n",
    "from sklearn.ensemble import RandomForestClassifier\n",
    "from sklearn.metrics import confusion_matrix, classification_report"
   ]
  },
  {
   "cell_type": "markdown",
   "metadata": {},
   "source": [
    "\n",
    "Here we check for the lenght of the dataframe before removing the duplicates"
   ]
  },
  {
   "cell_type": "code",
   "execution_count": 2,
   "metadata": {},
   "outputs": [
    {
     "name": "stdout",
     "output_type": "stream",
     "text": [
      "Length of dataframe before duplicates are removed: 10000\n"
     ]
    }
   ],
   "source": [
    "init_data = pd.read_csv(\"../data_root/raw/wine_dataset.csv\")\n",
    "print(\"Length of dataframe before duplicates are removed:\", len(init_data))"
   ]
  },
  {
   "cell_type": "markdown",
   "metadata": {},
   "source": [
    "Datasets often will have duplicate values and its necesssary to remove those to do proper analysis and obtain accurate predictions. Here we can observe the difference in the size of the dataframe once we remove the unnecessary duplicate and null values."
   ]
  },
  {
   "cell_type": "code",
   "execution_count": 3,
   "metadata": {},
   "outputs": [
    {
     "name": "stdout",
     "output_type": "stream",
     "text": [
      "Length of dataframe after duplicates are removed: 116\n",
      "Length of dataframe after NaNs are removed: 116\n"
     ]
    }
   ],
   "source": [
    "#Removing Duplicates from input file\n",
    "parsed_data = init_data[init_data.duplicated('description', keep=False)]\n",
    "print(\"Length of dataframe after duplicates are removed:\", len(parsed_data))\n",
    "#Removing Null Values from input file\n",
    "parsed_data.dropna(subset=['description', 'points'])\n",
    "print(\"Length of dataframe after NaNs are removed:\", len(parsed_data))"
   ]
  },
  {
   "cell_type": "markdown",
   "metadata": {},
   "source": [
    "We reanalyze the cleaned data, again on the basis of a description vs points model."
   ]
  },
  {
   "cell_type": "code",
   "execution_count": 4,
   "metadata": {},
   "outputs": [
    {
     "name": "stdout",
     "output_type": "stream",
     "text": [
      "<class 'pandas.core.frame.DataFrame'>\n",
      "Int64Index: 116 entries, 175 to 9825\n",
      "Data columns (total 2 columns):\n",
      " #   Column       Non-Null Count  Dtype \n",
      "---  ------       --------------  ----- \n",
      " 0   description  116 non-null    object\n",
      " 1   points       116 non-null    int64 \n",
      "dtypes: int64(1), object(1)\n",
      "memory usage: 2.7+ KB\n"
     ]
    },
    {
     "data": {
      "text/html": [
       "<div>\n",
       "<style scoped>\n",
       "    .dataframe tbody tr th:only-of-type {\n",
       "        vertical-align: middle;\n",
       "    }\n",
       "\n",
       "    .dataframe tbody tr th {\n",
       "        vertical-align: top;\n",
       "    }\n",
       "\n",
       "    .dataframe thead th {\n",
       "        text-align: right;\n",
       "    }\n",
       "</style>\n",
       "<table border=\"1\" class=\"dataframe\">\n",
       "  <thead>\n",
       "    <tr style=\"text-align: right;\">\n",
       "      <th></th>\n",
       "      <th>description</th>\n",
       "      <th>points</th>\n",
       "    </tr>\n",
       "  </thead>\n",
       "  <tbody>\n",
       "    <tr>\n",
       "      <th>175</th>\n",
       "      <td>So ripe and lush with fruit, this could only b...</td>\n",
       "      <td>92</td>\n",
       "    </tr>\n",
       "    <tr>\n",
       "      <th>506</th>\n",
       "      <td>Despite the low alcohol reading, this comes ac...</td>\n",
       "      <td>90</td>\n",
       "    </tr>\n",
       "    <tr>\n",
       "      <th>555</th>\n",
       "      <td>Coffee grinds, raisin and baked aromas suggest...</td>\n",
       "      <td>87</td>\n",
       "    </tr>\n",
       "    <tr>\n",
       "      <th>610</th>\n",
       "      <td>Aromas of black cherry and green pepper lead i...</td>\n",
       "      <td>87</td>\n",
       "    </tr>\n",
       "    <tr>\n",
       "      <th>632</th>\n",
       "      <td>This pale salmon rosé is a reliable sparkling ...</td>\n",
       "      <td>90</td>\n",
       "    </tr>\n",
       "  </tbody>\n",
       "</table>\n",
       "</div>"
      ],
      "text/plain": [
       "                                           description  points\n",
       "175  So ripe and lush with fruit, this could only b...      92\n",
       "506  Despite the low alcohol reading, this comes ac...      90\n",
       "555  Coffee grinds, raisin and baked aromas suggest...      87\n",
       "610  Aromas of black cherry and green pepper lead i...      87\n",
       "632  This pale salmon rosé is a reliable sparkling ...      90"
      ]
     },
     "execution_count": 4,
     "metadata": {},
     "output_type": "execute_result"
    }
   ],
   "source": [
    "#Analysing the data based on a description vs points model\n",
    "dp = parsed_data[['description','points']]\n",
    "dp.info()\n",
    "dp.head()"
   ]
  },
  {
   "cell_type": "markdown",
   "metadata": {},
   "source": [
    "Inspecting the plot containing the number of wines per point, we can observe that there are a lot of wines in the range of 85-92 points, with a slight dip in 91. This correlates with an abundance of average wines, as we can see from the present market."
   ]
  },
  {
   "cell_type": "code",
   "execution_count": 5,
   "metadata": {},
   "outputs": [
    {
     "data": {
      "text/plain": [
       "<AxesSubplot:title={'center':'Number of wines per points'}, xlabel='points', ylabel='Number of wines'>"
      ]
     },
     "execution_count": 5,
     "metadata": {},
     "output_type": "execute_result"
    },
    {
     "data": {
      "image/png": "[encoded data removed]",
      "text/plain": [
       "<Figure size 2160x720 with 1 Axes>"
      ]
     },
     "metadata": {
      "needs_background": "light"
     },
     "output_type": "display_data"
    }
   ],
   "source": [
    "#Inspecting the distribution of wines per points\n",
    "\n",
    "fig, ax = plt.subplots(figsize=(30,10))\n",
    "plt.xticks(fontsize=20) # X Ticks\n",
    "plt.yticks(fontsize=20) # Y Ticks\n",
    "ax.set_title('Number of wines per points', fontweight=\"bold\", size=25) # Title\n",
    "ax.set_ylabel('Number of wines', fontsize = 25) # Y label\n",
    "ax.set_xlabel('Points', fontsize = 25) # X label\n",
    "dp.groupby(['points']).count()['description'].plot(ax=ax, kind='bar')"
   ]
  },
  {
   "cell_type": "markdown",
   "metadata": {},
   "source": [
    "It is possible that the better the quality of wine, the longer its description could be. Plotting the the quality of wine along side the lenght of its description in a graph will give us a better idea of this assumption."
   ]
  },
  {
   "cell_type": "code",
   "execution_count": 6,
   "metadata": {},
   "outputs": [
    {
     "name": "stdout",
     "output_type": "stream",
     "text": [
      "<class 'pandas.core.frame.DataFrame'>\n",
      "Int64Index: 116 entries, 175 to 9825\n",
      "Data columns (total 3 columns):\n",
      " #   Column              Non-Null Count  Dtype \n",
      "---  ------              --------------  ----- \n",
      " 0   description         116 non-null    object\n",
      " 1   points              116 non-null    int64 \n",
      " 2   description_length  116 non-null    int64 \n",
      "dtypes: int64(2), object(1)\n",
      "memory usage: 3.6+ KB\n"
     ]
    },
    {
     "data": {
      "text/html": [
       "<div>\n",
       "<style scoped>\n",
       "    .dataframe tbody tr th:only-of-type {\n",
       "        vertical-align: middle;\n",
       "    }\n",
       "\n",
       "    .dataframe tbody tr th {\n",
       "        vertical-align: top;\n",
       "    }\n",
       "\n",
       "    .dataframe thead th {\n",
       "        text-align: right;\n",
       "    }\n",
       "</style>\n",
       "<table border=\"1\" class=\"dataframe\">\n",
       "  <thead>\n",
       "    <tr style=\"text-align: right;\">\n",
       "      <th></th>\n",
       "      <th>description</th>\n",
       "      <th>points</th>\n",
       "      <th>description_length</th>\n",
       "    </tr>\n",
       "  </thead>\n",
       "  <tbody>\n",
       "    <tr>\n",
       "      <th>175</th>\n",
       "      <td>So ripe and lush with fruit, this could only b...</td>\n",
       "      <td>92</td>\n",
       "      <td>344</td>\n",
       "    </tr>\n",
       "    <tr>\n",
       "      <th>506</th>\n",
       "      <td>Despite the low alcohol reading, this comes ac...</td>\n",
       "      <td>90</td>\n",
       "      <td>210</td>\n",
       "    </tr>\n",
       "    <tr>\n",
       "      <th>555</th>\n",
       "      <td>Coffee grinds, raisin and baked aromas suggest...</td>\n",
       "      <td>87</td>\n",
       "      <td>232</td>\n",
       "    </tr>\n",
       "    <tr>\n",
       "      <th>610</th>\n",
       "      <td>Aromas of black cherry and green pepper lead i...</td>\n",
       "      <td>87</td>\n",
       "      <td>258</td>\n",
       "    </tr>\n",
       "    <tr>\n",
       "      <th>632</th>\n",
       "      <td>This pale salmon rosé is a reliable sparkling ...</td>\n",
       "      <td>90</td>\n",
       "      <td>230</td>\n",
       "    </tr>\n",
       "  </tbody>\n",
       "</table>\n",
       "</div>"
      ],
      "text/plain": [
       "                                           description  points  \\\n",
       "175  So ripe and lush with fruit, this could only b...      92   \n",
       "506  Despite the low alcohol reading, this comes ac...      90   \n",
       "555  Coffee grinds, raisin and baked aromas suggest...      87   \n",
       "610  Aromas of black cherry and green pepper lead i...      87   \n",
       "632  This pale salmon rosé is a reliable sparkling ...      90   \n",
       "\n",
       "     description_length  \n",
       "175                 344  \n",
       "506                 210  \n",
       "555                 232  \n",
       "610                 258  \n",
       "632                 230  "
      ]
     },
     "execution_count": 6,
     "metadata": {},
     "output_type": "execute_result"
    }
   ],
   "source": [
    "dp = dp.assign(description_length = dp['description'].apply(len))\n",
    "dp.info()\n",
    "dp.head()"
   ]
  },
  {
   "cell_type": "code",
   "execution_count": 7,
   "metadata": {},
   "outputs": [
    {
     "data": {
      "image/png": "[encoded data removed]",
      "text/plain": [
       "<Figure size 2160x720 with 1 Axes>"
      ]
     },
     "metadata": {
      "needs_background": "light"
     },
     "output_type": "display_data"
    }
   ],
   "source": [
    "fig, ax = plt.subplots(figsize=(30,10))\n",
    "sns.boxplot(x='points', y='description_length', data=dp)\n",
    "plt.xticks(fontsize=20) # X Ticks\n",
    "plt.yticks(fontsize=20) # Y Ticks\n",
    "ax.set_title('Description Length per Points', fontweight=\"bold\", size=25) # Title\n",
    "ax.set_ylabel('Description Length', fontsize = 25) # Y label\n",
    "ax.set_xlabel('Points', fontsize = 25) # X label\n",
    "plt.show()"
   ]
  },
  {
   "cell_type": "markdown",
   "metadata": {},
   "source": [
    "Inspecting the plot, we can conclude that our initial assumption that the better the quality of wine, the longer its description might be, was correct. \n",
    "Since we have a pretty large range of points to deal with, it is better to simplify the points for ease of understanding and evaluation.\n",
    "We give a value of 1, 2, 3, and 4 for points under the range of 0-84, 85-90, 90-95, 95-100 and respectively such that:\n",
    "* 0-84: Under Average Wines\n",
    "* 85-90: Average Wines\n",
    "* 90-95: Good Wines\n",
    "* 95-100: Excellent Wines\n",
    "\n",
    "##### NOTE: EVEN THOUGH THE POINTS ONLY EXTEND FROM 84 TO 93 HERE, THE MODEL IS BUILT UNDER THE ASSUMPTION THAT THE ORIGINAL DATASET WILL HAVE A WIDER RANGE OF POINTS TO EXPLORE."
   ]
  },
  {
   "cell_type": "code",
   "execution_count": null,
   "metadata": {},
   "outputs": [],
   "source": []
  },
  {
   "cell_type": "code",
   "execution_count": 8,
   "metadata": {},
   "outputs": [
    {
     "data": {
      "text/html": [
       "<div>\n",
       "<style scoped>\n",
       "    .dataframe tbody tr th:only-of-type {\n",
       "        vertical-align: middle;\n",
       "    }\n",
       "\n",
       "    .dataframe tbody tr th {\n",
       "        vertical-align: top;\n",
       "    }\n",
       "\n",
       "    .dataframe thead th {\n",
       "        text-align: right;\n",
       "    }\n",
       "</style>\n",
       "<table border=\"1\" class=\"dataframe\">\n",
       "  <thead>\n",
       "    <tr style=\"text-align: right;\">\n",
       "      <th></th>\n",
       "      <th>description</th>\n",
       "      <th>points</th>\n",
       "      <th>description_length</th>\n",
       "      <th>points_simplified</th>\n",
       "    </tr>\n",
       "  </thead>\n",
       "  <tbody>\n",
       "    <tr>\n",
       "      <th>175</th>\n",
       "      <td>So ripe and lush with fruit, this could only b...</td>\n",
       "      <td>92</td>\n",
       "      <td>344</td>\n",
       "      <td>3</td>\n",
       "    </tr>\n",
       "    <tr>\n",
       "      <th>506</th>\n",
       "      <td>Despite the low alcohol reading, this comes ac...</td>\n",
       "      <td>90</td>\n",
       "      <td>210</td>\n",
       "      <td>3</td>\n",
       "    </tr>\n",
       "    <tr>\n",
       "      <th>555</th>\n",
       "      <td>Coffee grinds, raisin and baked aromas suggest...</td>\n",
       "      <td>87</td>\n",
       "      <td>232</td>\n",
       "      <td>2</td>\n",
       "    </tr>\n",
       "    <tr>\n",
       "      <th>610</th>\n",
       "      <td>Aromas of black cherry and green pepper lead i...</td>\n",
       "      <td>87</td>\n",
       "      <td>258</td>\n",
       "      <td>2</td>\n",
       "    </tr>\n",
       "    <tr>\n",
       "      <th>632</th>\n",
       "      <td>This pale salmon rosé is a reliable sparkling ...</td>\n",
       "      <td>90</td>\n",
       "      <td>230</td>\n",
       "      <td>3</td>\n",
       "    </tr>\n",
       "  </tbody>\n",
       "</table>\n",
       "</div>"
      ],
      "text/plain": [
       "                                           description  points  \\\n",
       "175  So ripe and lush with fruit, this could only b...      92   \n",
       "506  Despite the low alcohol reading, this comes ac...      90   \n",
       "555  Coffee grinds, raisin and baked aromas suggest...      87   \n",
       "610  Aromas of black cherry and green pepper lead i...      87   \n",
       "632  This pale salmon rosé is a reliable sparkling ...      90   \n",
       "\n",
       "     description_length  points_simplified  \n",
       "175                 344                  3  \n",
       "506                 210                  3  \n",
       "555                 232                  2  \n",
       "610                 258                  2  \n",
       "632                 230                  3  "
      ]
     },
     "execution_count": 8,
     "metadata": {},
     "output_type": "execute_result"
    }
   ],
   "source": [
    "def transform_points_simplified(points):\n",
    "    if points < 85:\n",
    "        return 1\n",
    "    elif points >= 85 and points < 90:\n",
    "        return 2 \n",
    "    elif points >= 90 and points < 95:\n",
    "        return 3 \n",
    "    elif points >= 95 and points < 100:\n",
    "        return 4 \n",
    "    else:\n",
    "        return 5\n",
    "dp = dp.assign(points_simplified = dp['points'].apply(transform_points_simplified))\n",
    "dp.head()"
   ]
  },
  {
   "cell_type": "markdown",
   "metadata": {},
   "source": [
    "Now that the points are simplified, its easier to visualize the range of wines as under average, average, good and excellent wines as seen from the below plot. As expected there's a huge availability of average wines."
   ]
  },
  {
   "cell_type": "code",
   "execution_count": 9,
   "metadata": {},
   "outputs": [
    {
     "data": {
      "text/plain": [
       "<AxesSubplot:title={'center':'Number of wines per points'}, xlabel='points_simplified', ylabel='Number of wines'>"
      ]
     },
     "execution_count": 9,
     "metadata": {},
     "output_type": "execute_result"
    },
    {
     "data": {
      "image/png": "[encoded data removed]",
      "text/plain": [
       "<Figure size 2160x720 with 1 Axes>"
      ]
     },
     "metadata": {
      "needs_background": "light"
     },
     "output_type": "display_data"
    }
   ],
   "source": [
    "fig, ax = plt.subplots(figsize=(30,10))\n",
    "plt.xticks(fontsize=20) # X Ticks\n",
    "plt.yticks(fontsize=20) # Y Ticks\n",
    "ax.set_title('Number of wines per points', fontweight=\"bold\", size=25) # Title\n",
    "ax.set_ylabel('Number of wines', fontsize = 25) # Y label\n",
    "ax.set_xlabel('Points', fontsize = 25) # X label\n",
    "dp.groupby(['points_simplified']).count()['description'].plot(ax=ax, kind='bar')"
   ]
  },
  {
   "cell_type": "markdown",
   "metadata": {},
   "source": [
    "#### Repeating the steps we did before without simplifying the points reaffirms our initial observations and assumptions regarding the relation between the length of a wine's description and its points."
   ]
  },
  {
   "cell_type": "code",
   "execution_count": 10,
   "metadata": {
    "scrolled": true
   },
   "outputs": [
    {
     "data": {
      "image/png": "[encoded data removed]",
      "text/plain": [
       "<Figure size 2160x720 with 1 Axes>"
      ]
     },
     "metadata": {
      "needs_background": "light"
     },
     "output_type": "display_data"
    }
   ],
   "source": [
    "fig, ax = plt.subplots(figsize=(30,10))\n",
    "sns.boxplot(x='points_simplified', y='description_length', data=dp)\n",
    "plt.xticks(fontsize=20) # X Ticks\n",
    "plt.yticks(fontsize=20) # Y Ticks\n",
    "ax.set_title('Description Length per Points', fontweight=\"bold\", size=25) # Title\n",
    "ax.set_ylabel('Description Length', fontsize = 25) # Y label\n",
    "ax.set_xlabel('Points', fontsize = 25) # X label\n",
    "plt.show()"
   ]
  },
  {
   "cell_type": "markdown",
   "metadata": {},
   "source": [
    "# VECTORIZATION\n",
    "\n",
    "Now that we have established a relationship between the description and the rating of wines, we need to fine tune these parameters to get the best results.\n",
    "We begin with vectorizing our model. Vectorization is essentially representing our data in a vector space so that it is associatable with lots of its characteristics like number of occurences, length etc.\n",
    "\n",
    "We will be using TF-IDF Vectorizer, which is one of the most popular vectorization algorithms. Under TF-IDF, the weight of the model increases proportionally to count but it is offset by the frequency of the word in the entire available data. This method is called Inverse Document Frequency, IDF. IDF enables it to adjust the weight with reference to frequent words like,'a', 'the', 'to', 'of' etc\n"
   ]
  },
  {
   "cell_type": "code",
   "execution_count": 11,
   "metadata": {},
   "outputs": [],
   "source": [
    "X = dp['description']\n",
    "y = dp['points_simplified']\n",
    "\n",
    "# Vectorizing model\n",
    "vectorizer = TfidfVectorizer()\n",
    "vectorizer.fit(X)\n",
    "X = vectorizer.transform(X)"
   ]
  },
  {
   "cell_type": "markdown",
   "metadata": {},
   "source": [
    "# Training and Testing the Model:\n",
    "\n",
    "Now that we have set the parameters and cleansed the data as required, the next step is to actually test the data with a suitable algorithm. We will be using the Random Forest Classifier Algorithm which will give us an accurate prediction by making use of its averaging functionlaity which tends to improve the predictive accuracy and over-all control fitting."
   ]
  },
  {
   "cell_type": "code",
   "execution_count": 12,
   "metadata": {
    "lines_to_next_cell": 2
   },
   "outputs": [
    {
     "name": "stdout",
     "output_type": "stream",
     "text": [
      "              precision    recall  f1-score   support\n",
      "\n",
      "           2       1.00      1.00      1.00         6\n",
      "           3       1.00      1.00      1.00         6\n",
      "\n",
      "    accuracy                           1.00        12\n",
      "   macro avg       1.00      1.00      1.00        12\n",
      "weighted avg       1.00      1.00      1.00        12\n",
      "\n"
     ]
    }
   ],
   "source": [
    "# Training model\n",
    "X_train, X_test, y_train, y_test = train_test_split(X, y, test_size=0.1, random_state=101)\n",
    "rfc = RandomForestClassifier()\n",
    "rfc.fit(X_train, y_train)\n",
    "\n",
    "\n",
    "# Testing model\n",
    "predictions = rfc.predict(X_test)\n",
    "print(classification_report(y_test, predictions,))"
   ]
  },
  {
   "cell_type": "markdown",
   "metadata": {},
   "source": [
    "# Evaluating the Model\n",
    "\n",
    "We can check the accuracy of our predictions by making use of Mean Absoluter Percentage Error or MAPE. MAPE is a very useful measure of accuracy as it gives us an understanding of how much our predicted values deviated from the actual values."
   ]
  },
  {
   "cell_type": "code",
   "execution_count": 13,
   "metadata": {},
   "outputs": [
    {
     "name": "stdout",
     "output_type": "stream",
     "text": [
      "Accuracy: 100.0 %.\n"
     ]
    }
   ],
   "source": [
    "# Calculate the absolute errors\n",
    "errors = abs(predictions - y_test)\n",
    "# Calculate mean absolute percentage error (MAPE)\n",
    "mape = 100 * (errors / y_test)\n",
    "# Calculate and display accuracy\n",
    "accuracy = 100 - np.mean(mape)\n",
    "print('Accuracy:', round(accuracy, 2), '%.')"
   ]
  },
  {
   "cell_type": "markdown",
   "metadata": {},
   "source": [
    "# Conclusion\n",
    "\n",
    "From the obtained accuracy, we can understand that an almost perfect prediction is possible. The initial assumption that people invest more time in describing the best wines acted as the basis of our predictions and helped us understand the direct correlation between how a longer description implies a better vine. Such a high accuracy rate implies that this correlation will hold true for all datasets regardless of its size.\n",
    "\n",
    "Using this model on a business is mathematically guaranteed to give positive results due to the sheer accuracy with which predictions were made."
   ]
  }
 ],
 "metadata": {
  "jupytext": {
   "formats": "ipynb,py:percent"
  },
  "kernelspec": {
   "display_name": "Python 3",
   "language": "python",
   "name": "python3"
  },
  "language_info": {
   "codemirror_mode": {
    "name": "ipython",
    "version": 3
   },
   "file_extension": ".py",
   "mimetype": "text/x-python",
   "name": "python",
   "nbconvert_exporter": "python",
   "pygments_lexer": "ipython3",
   "version": "3.8.5"
  }
 },
 "nbformat": 4,
 "nbformat_minor": 4
}
